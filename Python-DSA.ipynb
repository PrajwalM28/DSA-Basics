{
 "cells": [
  {
   "cell_type": "markdown",
   "id": "0a8640cf-380b-404f-9284-600dac0eb64c",
   "metadata": {},
   "source": [
    "# Q1."
   ]
  },
  {
   "cell_type": "markdown",
   "id": "1cc23ccc-7a9d-4509-8fa9-583c7f1f2442",
   "metadata": {},
   "source": [
    "'#' symbol to write a single-line comment.\n",
    "\n",
    "- Multi-Line commment\n",
    "- single-line comment"
   ]
  },
  {
   "cell_type": "markdown",
   "id": "3e5a2a49-e715-49f1-be81-c159eaa9848b",
   "metadata": {},
   "source": [
    "# Q2."
   ]
  },
  {
   "cell_type": "markdown",
   "id": "8e684448-37c9-492f-a09d-7e58f2b18a10",
   "metadata": {},
   "source": [
    "- Variables are used to store and manage data in a program."
   ]
  },
  {
   "cell_type": "code",
   "execution_count": 2,
   "id": "56d0c7fe-6f8d-4cc4-b057-a5f247b9e489",
   "metadata": {},
   "outputs": [
    {
     "data": {
      "text/plain": [
       "5"
      ]
     },
     "execution_count": 2,
     "metadata": {},
     "output_type": "execute_result"
    }
   ],
   "source": [
    "x = 5\n",
    "x"
   ]
  },
  {
   "cell_type": "markdown",
   "id": "30665295-ce01-42e6-b4fa-69f31b34c41d",
   "metadata": {},
   "source": [
    "# Q3."
   ]
  },
  {
   "cell_type": "code",
   "execution_count": 3,
   "id": "9c933d6b-f8d6-4903-9e82-13b2175d4d70",
   "metadata": {},
   "outputs": [
    {
     "data": {
      "text/plain": [
       "123"
      ]
     },
     "execution_count": 3,
     "metadata": {},
     "output_type": "execute_result"
    }
   ],
   "source": [
    "str = \"123\"\n",
    "new = int(str)\n",
    "new"
   ]
  },
  {
   "cell_type": "markdown",
   "id": "742f682f-5909-4913-9f55-28038e1cb1a5",
   "metadata": {},
   "source": [
    "# Q4."
   ]
  },
  {
   "cell_type": "markdown",
   "id": "981aba77-864a-4cf3-a3c3-d7b61c7aa7fc",
   "metadata": {},
   "source": [
    "python script.py"
   ]
  },
  {
   "cell_type": "markdown",
   "id": "ba83d0d7-da08-4605-98ea-29ced0e8047f",
   "metadata": {},
   "source": [
    "# Q5."
   ]
  },
  {
   "cell_type": "code",
   "execution_count": 6,
   "id": "84b7a801-b999-4a92-bcce-7334db7d8a0f",
   "metadata": {},
   "outputs": [
    {
     "data": {
      "text/plain": [
       "[2, 3]"
      ]
     },
     "execution_count": 6,
     "metadata": {},
     "output_type": "execute_result"
    }
   ],
   "source": [
    "my_list = [1,2,3,4,5]\n",
    "sub_list = my_list[1:3]\n",
    "sub_list"
   ]
  },
  {
   "cell_type": "markdown",
   "id": "b0467f0c-8ce9-4d17-8b22-592375eeea5b",
   "metadata": {},
   "source": [
    "# Q6."
   ]
  },
  {
   "cell_type": "markdown",
   "id": "1d914418-162b-476b-b65e-3b31b2871d42",
   "metadata": {},
   "source": [
    "- a complex number is of the form a + bi, where a and b are real numbers, and i is the imaginary unit."
   ]
  },
  {
   "cell_type": "code",
   "execution_count": 7,
   "id": "b2085a20-97dc-45f6-b8a0-ef2d871ae14f",
   "metadata": {},
   "outputs": [
    {
     "data": {
      "text/plain": [
       "(3+4j)"
      ]
     },
     "execution_count": 7,
     "metadata": {},
     "output_type": "execute_result"
    }
   ],
   "source": [
    "z = 3+4j\n",
    "z"
   ]
  },
  {
   "cell_type": "markdown",
   "id": "624da44c-4b55-435d-9200-5303510d6a11",
   "metadata": {},
   "source": [
    "# Q7."
   ]
  },
  {
   "cell_type": "code",
   "execution_count": 8,
   "id": "598e0959-281d-4273-8b56-d11e671bc91c",
   "metadata": {},
   "outputs": [],
   "source": [
    "age = 25"
   ]
  },
  {
   "cell_type": "markdown",
   "id": "5cc2af49-297c-4c19-a7e5-b35da643e1f0",
   "metadata": {},
   "source": [
    "# Q8."
   ]
  },
  {
   "cell_type": "code",
   "execution_count": 9,
   "id": "64d3e74c-d0e6-4f8c-bf81-0fdc5a664e1f",
   "metadata": {},
   "outputs": [
    {
     "data": {
      "text/plain": [
       "float"
      ]
     },
     "execution_count": 9,
     "metadata": {},
     "output_type": "execute_result"
    }
   ],
   "source": [
    "price = 9.99\n",
    "type(price)"
   ]
  },
  {
   "cell_type": "markdown",
   "id": "171e24e0-0e59-4cdd-a101-9dd35e798613",
   "metadata": {},
   "source": [
    "# Q9."
   ]
  },
  {
   "cell_type": "code",
   "execution_count": 13,
   "id": "94999d96-727e-4f90-a4a0-eb6170d8e64a",
   "metadata": {},
   "outputs": [
    {
     "name": "stdout",
     "output_type": "stream",
     "text": [
      "Prajwal M\n"
     ]
    }
   ],
   "source": [
    "name = \"Prajwal M\"\n",
    "print(name)"
   ]
  },
  {
   "cell_type": "markdown",
   "id": "e8da7663-7f87-444f-902b-d8b797ab21b1",
   "metadata": {},
   "source": [
    "# Q10."
   ]
  },
  {
   "cell_type": "code",
   "execution_count": 14,
   "id": "df157a3a-5bec-4111-8557-f3147f5aed19",
   "metadata": {},
   "outputs": [
    {
     "data": {
      "text/plain": [
       "'World'"
      ]
     },
     "execution_count": 14,
     "metadata": {},
     "output_type": "execute_result"
    }
   ],
   "source": [
    "str = \"Hello, World!\"\n",
    "sub = str[7:12]\n",
    "sub"
   ]
  },
  {
   "cell_type": "markdown",
   "id": "dabdebcf-a2de-4e93-9207-e4e879914a0f",
   "metadata": {},
   "source": [
    "# Q11."
   ]
  },
  {
   "cell_type": "markdown",
   "id": "8e3b3ddb-8ef2-43b5-9eb6-bce1ae8b0f17",
   "metadata": {},
   "source": [
    "is_student = True"
   ]
  }
 ],
 "metadata": {
  "kernelspec": {
   "display_name": "Python 3 (ipykernel)",
   "language": "python",
   "name": "python3"
  },
  "language_info": {
   "codemirror_mode": {
    "name": "ipython",
    "version": 3
   },
   "file_extension": ".py",
   "mimetype": "text/x-python",
   "name": "python",
   "nbconvert_exporter": "python",
   "pygments_lexer": "ipython3",
   "version": "3.10.8"
  }
 },
 "nbformat": 4,
 "nbformat_minor": 5
}
